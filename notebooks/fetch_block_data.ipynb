{
 "cells": [
  {
   "cell_type": "code",
   "execution_count": 1,
   "id": "fb1f6079",
   "metadata": {},
   "outputs": [],
   "source": [
    "import requests\n",
    "import csv\n",
    "from datetime import datetime, timedelta"
   ]
  },
  {
   "cell_type": "code",
   "execution_count": 2,
   "id": "b3908a80",
   "metadata": {},
   "outputs": [],
   "source": [
    "MIN_BASE_FEE_PER_BLOB_GAS = 1\n",
    "TARGET_BLOB_GAS_PER_BLOCK = 786432 # 6 blobs\n",
    "BLOB_BASE_FEE_UPDATE_FRACTION_PRAGUE = 5007716"
   ]
  },
  {
   "cell_type": "code",
   "execution_count": 3,
   "id": "a58c431a",
   "metadata": {},
   "outputs": [],
   "source": [
    "def fake_exponential(factor: int, numerator: int, denominator: int) -> int:\n",
    "    _numerator = int(numerator)\n",
    "    _denominator = int(denominator)\n",
    "    i = int(1)\n",
    "    output = int(0)\n",
    "    numerator_accum = int(factor * denominator)\n",
    "    while numerator_accum > 0:\n",
    "        output += numerator_accum\n",
    "        temp = numerator_accum * _numerator\n",
    "        numerator_accum = (temp) // (_denominator * i)\n",
    "        i += 1\n",
    "    return output // _denominator\n",
    "\n",
    "def get_base_fee_per_blob_gas(min_base_fee_per_blob_gas: int, excess_blob_gas: int, blob_base_fee_update_fraction: int) -> int:\n",
    "    return fake_exponential(\n",
    "        min_base_fee_per_blob_gas,\n",
    "        excess_blob_gas,\n",
    "        blob_base_fee_update_fraction\n",
    "    )"
   ]
  },
  {
   "cell_type": "code",
   "execution_count": null,
   "id": "873ab38c",
   "metadata": {},
   "outputs": [],
   "source": [
    "\n",
    "\n",
    "url = 'https://api.blobscan.com/blocks'\n",
    "pectra_fork_blocknumber = 22431084 # the block number of the Pactra fork\n",
    "start_block = pectra_fork_blocknumber\n",
    "end_block = pectra_fork_blocknumber + (5 * 60 * 24 * 7)\n",
    "\n",
    "data = []\n",
    "selected_keys = ['number', 'timestamp', 'blobGasUsed', 'excessBlobGas', 'blobGasPrice']\n",
    "\n",
    "\n",
    "block = start_block\n",
    "while block < end_block:\n",
    "    response = requests.get(\n",
    "        url,\n",
    "        params={\n",
    "            'startBlock': block,\n",
    "            'sort': 'asc',\n",
    "            'count': 'true',\n",
    "        }\n",
    "    ).json()\n",
    "\n",
    "    data.extend([\n",
    "        {key: d[key] for key in selected_keys if key in d} for d in response['blocks']\n",
    "    ])\n",
    "\n",
    "    block = response['blocks'][-1]['number'] + 1\n",
    "\n",
    "\n",
    "index = 1\n",
    "while index < len(data):\n",
    "    if (data[index]['number'] - data[index - 1]['number']) > 1:\n",
    "        time = datetime.fromisoformat(data[index - 1]['timestamp']) + timedelta(seconds=12)\n",
    "        excessBlobGas = max(0, int(data[index - 1]['excessBlobGas']) + int(data[index - 1]['blobGasUsed']) - TARGET_BLOB_GAS_PER_BLOCK)\n",
    "        blobGasPrice = get_base_fee_per_blob_gas(MIN_BASE_FEE_PER_BLOB_GAS, excessBlobGas, BLOB_BASE_FEE_UPDATE_FRACTION_PRAGUE)\n",
    "        data.insert(index, {\n",
    "            'number': data[index - 1]['number'] + 1,\n",
    "            'timestamp': time.isoformat(timespec='milliseconds').replace('+00:00', 'Z'),\n",
    "            'blobGasUsed': 0,\n",
    "            'excessBlobGas': excessBlobGas,\n",
    "            'blobGasPrice': blobGasPrice,\n",
    "        })\n",
    "    index += 1\n",
    "\n",
    "\n",
    "with open('data/blocks_1week_after_pectra.csv', 'w', newline='') as csvfile:\n",
    "    writer = csv.DictWriter(csvfile, fieldnames=selected_keys)\n",
    "    writer.writeheader()\n",
    "    writer.writerows(data)"
   ]
  }
 ],
 "metadata": {
  "kernelspec": {
   "display_name": "tokenomic",
   "language": "python",
   "name": "python3"
  },
  "language_info": {
   "codemirror_mode": {
    "name": "ipython",
    "version": 3
   },
   "file_extension": ".py",
   "mimetype": "text/x-python",
   "name": "python",
   "nbconvert_exporter": "python",
   "pygments_lexer": "ipython3",
   "version": "3.12.8"
  }
 },
 "nbformat": 4,
 "nbformat_minor": 5
}
